{
 "cells": [
  {
   "cell_type": "code",
   "execution_count": 4,
   "metadata": {},
   "outputs": [],
   "source": [
    "import numpy as np;\n",
    "import matplotlib.pyplot as plt;\n",
    "import pandas as pd;\n",
    "from sklearn.model_selection import train_test_split;\n",
    "from sklearn.preprocessing import StandardScaler;\n",
    "from matplotlib.colors import ListedColormap;"
   ]
  },
  {
   "cell_type": "code",
   "execution_count": 5,
   "metadata": {},
   "outputs": [
    {
     "ename": "SyntaxError",
     "evalue": "invalid syntax (2851683313.py, line 2)",
     "output_type": "error",
     "traceback": [
      "\u001b[1;36m  Input \u001b[1;32mIn [5]\u001b[1;36m\u001b[0m\n\u001b[1;33m    X=df.iloc[].values\u001b[0m\n\u001b[1;37m              ^\u001b[0m\n\u001b[1;31mSyntaxError\u001b[0m\u001b[1;31m:\u001b[0m invalid syntax\n"
     ]
    }
   ],
   "source": [
    "df=pd.read_csv(\"Social_Network_Ads.csv\")\n",
    "X=df.iloc[:,[2,3]].values\n",
    "Y=df.iloc[:,4].values"
   ]
  },
  {
   "cell_type": "code",
   "execution_count": null,
   "metadata": {},
   "outputs": [],
   "source": [
    "x_train,y_train,x_test,y_test=train_test_split(X,Y,test_size=0.25,random_state=0)"
   ]
  },
  {
   "cell_type": "code",
   "execution_count": null,
   "metadata": {},
   "outputs": [],
   "source": [
    "sc_X=StandardScaler()\n",
    "x_train=sc_X.fit_transform(x_train)\n",
    "x_test=sc_X.transform(x_test)\n"
   ]
  },
  {
   "cell_type": "code",
   "execution_count": null,
   "metadata": {},
   "outputs": [],
   "source": []
  },
  {
   "cell_type": "code",
   "execution_count": null,
   "metadata": {},
   "outputs": [
    {
     "ename": "NameError",
     "evalue": "name 'x_train' is not defined",
     "output_type": "error",
     "traceback": [
      "\u001b[1;31m---------------------------------------------------------------------------\u001b[0m",
      "\u001b[1;31mNameError\u001b[0m                                 Traceback (most recent call last)",
      "\u001b[1;32me:\\Jupyter\\CLASSIFICATION\\Classifier-Template.ipynb Cell 6'\u001b[0m in \u001b[0;36m<cell line: 2>\u001b[1;34m()\u001b[0m\n\u001b[0;32m      <a href='vscode-notebook-cell:/e%3A/Jupyter/CLASSIFICATION/Classifier-Template.ipynb#ch0000005?line=0'>1</a>\u001b[0m \u001b[39mfrom\u001b[39;00m \u001b[39mmatplotlib\u001b[39;00m\u001b[39m.\u001b[39;00m\u001b[39mcolors\u001b[39;00m \u001b[39mimport\u001b[39;00m ListedColormap\n\u001b[1;32m----> <a href='vscode-notebook-cell:/e%3A/Jupyter/CLASSIFICATION/Classifier-Template.ipynb#ch0000005?line=1'>2</a>\u001b[0m X_set, y_set \u001b[39m=\u001b[39m x_train, y_train\n\u001b[0;32m      <a href='vscode-notebook-cell:/e%3A/Jupyter/CLASSIFICATION/Classifier-Template.ipynb#ch0000005?line=2'>3</a>\u001b[0m X1, X2 \u001b[39m=\u001b[39m np\u001b[39m.\u001b[39mmeshgrid(np\u001b[39m.\u001b[39marange(start \u001b[39m=\u001b[39m X_set[:, \u001b[39m0\u001b[39m]\u001b[39m.\u001b[39mmin() \u001b[39m-\u001b[39m \u001b[39m1\u001b[39m, stop \u001b[39m=\u001b[39m X_set[:, \u001b[39m0\u001b[39m]\u001b[39m.\u001b[39mmax() \u001b[39m+\u001b[39m \u001b[39m1\u001b[39m, step \u001b[39m=\u001b[39m \u001b[39m0.01\u001b[39m),\n\u001b[0;32m      <a href='vscode-notebook-cell:/e%3A/Jupyter/CLASSIFICATION/Classifier-Template.ipynb#ch0000005?line=3'>4</a>\u001b[0m                      np\u001b[39m.\u001b[39marange(start \u001b[39m=\u001b[39m X_set[:, \u001b[39m1\u001b[39m]\u001b[39m.\u001b[39mmin() \u001b[39m-\u001b[39m \u001b[39m1\u001b[39m, stop \u001b[39m=\u001b[39m X_set[:, \u001b[39m1\u001b[39m]\u001b[39m.\u001b[39mmax() \u001b[39m+\u001b[39m \u001b[39m1\u001b[39m, step \u001b[39m=\u001b[39m \u001b[39m0.01\u001b[39m))\n\u001b[0;32m      <a href='vscode-notebook-cell:/e%3A/Jupyter/CLASSIFICATION/Classifier-Template.ipynb#ch0000005?line=4'>5</a>\u001b[0m plt\u001b[39m.\u001b[39mcontourf(X1, X2, classifier\u001b[39m.\u001b[39mpredict(np\u001b[39m.\u001b[39marray([X1\u001b[39m.\u001b[39mravel(), X2\u001b[39m.\u001b[39mravel()])\u001b[39m.\u001b[39mT)\u001b[39m.\u001b[39mreshape(X1\u001b[39m.\u001b[39mshape),\n\u001b[0;32m      <a href='vscode-notebook-cell:/e%3A/Jupyter/CLASSIFICATION/Classifier-Template.ipynb#ch0000005?line=5'>6</a>\u001b[0m              alpha \u001b[39m=\u001b[39m \u001b[39m0.75\u001b[39m, cmap \u001b[39m=\u001b[39m ListedColormap((\u001b[39m'\u001b[39m\u001b[39mred\u001b[39m\u001b[39m'\u001b[39m, \u001b[39m'\u001b[39m\u001b[39mgreen\u001b[39m\u001b[39m'\u001b[39m)))\n",
      "\u001b[1;31mNameError\u001b[0m: name 'x_train' is not defined"
     ]
    }
   ],
   "source": [
    "from matplotlib.colors import ListedColormap\n",
    "X_set, y_set = x_train, y_train\n",
    "X1, X2 = np.meshgrid(np.arange(start = X_set[:, 0].min() - 1, stop = X_set[:, 0].max() + 1, step = 0.01),\n",
    "                     np.arange(start = X_set[:, 1].min() - 1, stop = X_set[:, 1].max() + 1, step = 0.01))\n",
    "plt.contourf(X1, X2, classifier.predict(np.array([X1.ravel(), X2.ravel()]).T).reshape(X1.shape),\n",
    "             alpha = 0.75, cmap = ListedColormap(('red', 'green')))\n",
    "plt.xlim(X1.min(), X1.max())\n",
    "plt.ylim(X2.min(), X2.max())\n",
    "for i, j in enumerate(np.unique(y_set)):\n",
    "    plt.scatter(X_set[y_set == j, 0], X_set[y_set == j, 1],\n",
    "                c = ListedColormap(('red', 'green'))(i), label = j)\n",
    "plt.title('Logistic Regression (Training set)')\n",
    "plt.xlabel('Age')\n",
    "plt.ylabel('Estimated Salary')\n",
    "plt.legend()\n",
    "plt.show()"
   ]
  }
 ],
 "metadata": {
  "interpreter": {
   "hash": "b1b27553f6e4904588728d8de374406bc368885e565b719faa557bd9d5f50c46"
  },
  "kernelspec": {
   "display_name": "Python 3.10.4 64-bit",
   "language": "python",
   "name": "python3"
  },
  "language_info": {
   "codemirror_mode": {
    "name": "ipython",
    "version": 3
   },
   "file_extension": ".py",
   "mimetype": "text/x-python",
   "name": "python",
   "nbconvert_exporter": "python",
   "pygments_lexer": "ipython3",
   "version": "3.10.4"
  },
  "orig_nbformat": 4
 },
 "nbformat": 4,
 "nbformat_minor": 2
}
