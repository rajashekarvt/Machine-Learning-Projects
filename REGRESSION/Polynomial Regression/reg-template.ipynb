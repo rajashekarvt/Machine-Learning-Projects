{
 "cells": [
  {
   "cell_type": "code",
   "execution_count": null,
   "metadata": {},
   "outputs": [],
   "source": [
    "import numpy as np;\n",
    "import pandas as pd;\n",
    "import matplotlib.pyplot as plt;\n",
    "from sklearn.linear_model import LinearRegression;"
   ]
  },
  {
   "cell_type": "markdown",
   "metadata": {},
   "source": []
  },
  {
   "cell_type": "code",
   "execution_count": null,
   "metadata": {},
   "outputs": [],
   "source": [
    "df=pd.read_csv('Position_Salaries.csv')\n",
    "X=df.iloc[:,1:2].values\n",
    "Y=df.iloc[:,-1].values"
   ]
  },
  {
   "cell_type": "code",
   "execution_count": null,
   "metadata": {},
   "outputs": [],
   "source": [
    "y_pred=regressor.predict(6.5)\n",
    "\n",
    "plt.scatter(X,Y,color='red',marker='*',label='Sample Data')\n",
    "plt.plot(X,regressor.predict(X),color='blue',label='Linear Regression')\n",
    "plt.xlabel('Salary')\n",
    "plt.ylabel('Job Level')\n",
    "plt.title('Truth Or Bluff')\n",
    "plt.legend(facecolor='white',fontsize=11)\n",
    "plt.show()"
   ]
  },
  {
   "cell_type": "code",
   "execution_count": null,
   "metadata": {},
   "outputs": [],
   "source": [
    "\n",
    "X_grid=np.arange(min(X),max(X),0.1)\n",
    "X_grid=X_grid.reshape((len(X_grid),1))\n",
    "plt.scatter(X,Y,color='red',marker='*',label='Sample Data') # for smoother curve we need to use np.arange to get a higher resolution / visualization\n",
    "plt.plot(X_grid,regressor.predict(X_grid),color='blue',label='Linear Regression')\n",
    "plt.xlabel('Salary')\n",
    "plt.ylabel('Job Level')\n",
    "plt.title('Truth Or Bluff')\n",
    "plt.legend(facecolor='white',fontsize=11)\n",
    "plt.show()\n"
   ]
  }
 ],
 "metadata": {
  "language_info": {
   "name": "python"
  },
  "orig_nbformat": 4
 },
 "nbformat": 4,
 "nbformat_minor": 2
}
